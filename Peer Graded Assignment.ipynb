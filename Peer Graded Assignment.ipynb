{
 "cells": [
  {
   "cell_type": "markdown",
   "metadata": {},
   "source": [
    "<center>\n",
    "    <img src=\"https://cf-courses-data.s3.us.cloud-object-storage.appdomain.cloud/IBMDeveloperSkillsNetwork-DS0105EN-SkillsNetwork/labs/Module2/images/SN_web_lightmode.png\" width=\"300\" alt=\"cognitiveclass.ai logo\"  />\n",
    "</center>\n"
   ]
  },
  {
   "cell_type": "markdown",
   "metadata": {},
   "source": [
    "#### Add your code below following the instructions given in the course\n"
   ]
  },
  {
   "cell_type": "markdown",
   "metadata": {},
   "source": [
    "# My Jupyter Notebook on IBM Watson Studio"
   ]
  },
  {
   "cell_type": "markdown",
   "metadata": {},
   "source": [
    "**CAO VU UYEN NHA**\n",
    "\n",
    "Former Senior Digital Marketing Manager"
   ]
  },
  {
   "cell_type": "markdown",
   "metadata": {},
   "source": [
    "*I am interested in data science because I can scientific methods, processes, algorithms, and systems to extract knowledge from data, and then leveraging that data to draw conclusions from decision making, risk calculation, targeting the audience to even finding market gaps and opportunities.*"
   ]
  },
  {
   "cell_type": "markdown",
   "metadata": {},
   "source": [
    "### Random number table"
   ]
  },
  {
   "cell_type": "code",
   "execution_count": null,
   "metadata": {},
   "outputs": [],
   "source": [
    "| Single digit | Double digit | Triple digit |\n",
    "| ------ | ------ | ------ |\n",
    "| 1 | 11 | 111 |\n",
    "| ------ | ------ | ------ |\n",
    "| 2 | 22 | 222 |\n",
    "| ------ | ------ | ------ |\n",
    "| 3 | 33 | 333 |\n",
    "| ------ | ------ | ------ |\n",
    "| 4 | 44 | 444 |"
   ]
  },
  {
   "cell_type": "markdown",
   "metadata": {},
   "source": [
    "> Good food heals my soul.\n",
    "\n",
    "![alt text](https://phothang.com/upload/elfinder/07bdf336f4b53feb66a4.jpg \"Logo Title Text 1\")\n",
    "\n",
    "[And Pho is my favorite food as always](https://www.google.com/search?q=vietnamese+ph%E1%BB%9F&source=lmns&bih=627&biw=1280&hl=en&sa=X&ved=2ahUKEwig3qyaoJ_7AhUEunIEHSm7ADgQ_AUoAHoECAEQAA)"
   ]
  }
 ],
 "metadata": {
  "kernelspec": {
   "display_name": "Python",
   "language": "python",
   "name": "conda-env-python-py"
  },
  "language_info": {
   "codemirror_mode": {
    "name": "ipython",
    "version": 3
   },
   "file_extension": ".py",
   "mimetype": "text/x-python",
   "name": "python",
   "nbconvert_exporter": "python",
   "pygments_lexer": "ipython3",
   "version": "3.7.12"
  }
 },
 "nbformat": 4,
 "nbformat_minor": 4
}
