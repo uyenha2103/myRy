"metadata": {
  "kernelspec": {
   "display_name": "Python 3",
   "language": "python",
   "name": "python3"
    }
  },
  "nbformat_minor": 4,
  "nbformat": 4,
  "cells": [
    {
      "cell_type": "markdown",
      "source": "# My Jupyter Notebook on IBM Watson Studio",
      "metadata": {}
    },
    {
      "cell_type": "markdown",
      "source": "**CAO VU UYEN NHA**\n\nFormer Senior Digital Marketing Manager",
      "metadata": {}
    },
    {
      "cell_type": "markdown",
      "source": "*I am interested in data science because I can scientific methods, processes, algorithms, and systems to extract knowledge from data, and then leveraging that data to draw conclusions from decision making, risk calculation, targeting the audience to even finding market gaps and opportunities.*",
      "metadata": {}
    },
    {
      "cell_type": "markdown",
      "source": "### Random number table",
      "metadata": {}
    },
    {
      "cell_type": "markdown",
      "source": "| Single digit | Double digit | Triple digit |\n| ------ | ------ | ------ |\n| 1 | 11 | 111 |\n| ------ | ------ | ------ |\n| 2 | 22 | 222 |\n| ------ | ------ | ------ |\n| 3 | 33 | 333 |\n| ------ | ------ | ------ |\n| 4 | 44 | 444 |",
      "metadata": {}
    },
    {
      "cell_type": "markdown",
      "source": "> Good food heals my soul.\n\n![alt text](https://phothang.com/upload/elfinder/07bdf336f4b53feb66a4.jpg \"Logo Title Text 1\")\n\n\n[And Pho is my favorite food as always](https://www.google.com/search?q=vietnamese+ph%E1%BB%9F&source=lmns&bih=627&biw=1280&hl=en&sa=X&ved=2ahUKEwig3qyaoJ_7AhUEunIEHSm7ADgQ_AUoAHoECAEQAA)\n",
      "metadata": {}
    }
  ]
